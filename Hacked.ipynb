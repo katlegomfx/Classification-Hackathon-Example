{
  "nbformat": 4,
  "nbformat_minor": 0,
  "metadata": {
    "colab": {
      "name": "Hacked.ipynb",
      "version": "0.3.2",
      "provenance": [],
      "collapsed_sections": []
    },
    "language_info": {
      "codemirror_mode": {
        "name": "ipython",
        "version": 3
      },
      "file_extension": ".py",
      "mimetype": "text/x-python",
      "name": "python",
      "nbconvert_exporter": "python",
      "pygments_lexer": "ipython3",
      "version": "3.7.2"
    },
    "kernelspec": {
      "display_name": "Python 3",
      "language": "python",
      "name": "python3"
    }
  },
  "cells": [
    {
      "cell_type": "code",
      "metadata": {
        "colab_type": "code",
        "id": "83PVRW4XakoE",
        "colab": {}
      },
      "source": [
        "# Import some libraries we will need\n",
        "import numpy as np\n",
        "import pandas as pd\n",
        "import matplotlib.pyplot as plt\n",
        "import seaborn as sns\n",
        "import pandas_profiling"
      ],
      "execution_count": 0,
      "outputs": []
    },
    {
      "cell_type": "code",
      "metadata": {
        "colab_type": "code",
        "id": "iTItz38GakoI",
        "colab": {}
      },
      "source": [
        "#Load data as Pandas Dataframe\n",
        "train = pd.read_csv('training.csv')\n",
        "test = pd.read_csv('test.csv')\n",
        "sample = pd.read_csv('sample_submission.csv')"
      ],
      "execution_count": 0,
      "outputs": []
    },
    {
      "cell_type": "code",
      "metadata": {
        "colab_type": "code",
        "id": "PWpkygdRakoL",
        "colab": {}
      },
      "source": [
        "to_23 = ['TransactionId', 'AccountId', 'BatchId', 'CustomerId', 'CurrencyCode', 'CountryCode', 'Amount', 'TransactionStartTime']\n",
        "to_17 = ['TransactionId', 'SubscriptionId', 'AccountId', 'BatchId', 'CustomerId', 'CurrencyCode', 'CountryCode', 'Amount', 'TransactionStartTime']"
      ],
      "execution_count": 0,
      "outputs": []
    },
    {
      "cell_type": "code",
      "metadata": {
        "colab_type": "code",
        "id": "J6wDzxUIakoN",
        "colab": {}
      },
      "source": [
        "train_mod = train.drop(to_17, axis=1)\n",
        "test_mod = test.drop(to_17, axis=1)"
      ],
      "execution_count": 0,
      "outputs": []
    },
    {
      "cell_type": "code",
      "metadata": {
        "colab_type": "code",
        "id": "vPnh075pakoQ",
        "colab": {}
      },
      "source": [
        "train_mod = train_mod.drop_duplicates()\n",
        "#test_uni = test_mod.drop_duplicates()"
      ],
      "execution_count": 0,
      "outputs": []
    },
    {
      "cell_type": "code",
      "metadata": {
        "colab_type": "code",
        "id": "7LqESIlMakoS",
        "scrolled": true,
        "colab": {}
      },
      "source": [
        "#plugging the data into the library\n",
        "pandas_profiling.ProfileReport(train_mod)"
      ],
      "execution_count": 0,
      "outputs": []
    },
    {
      "cell_type": "code",
      "metadata": {
        "colab_type": "code",
        "id": "Md3feWVgakoV",
        "colab": {}
      },
      "source": [
        "#Features\n",
        "X = train_mod.drop('FraudResult', axis=1)\n",
        "#Labels\n",
        "y = train_mod['FraudResult']\n",
        "\n",
        "# Predict Features\n",
        "X_pred_f = test_mod"
      ],
      "execution_count": 0,
      "outputs": []
    },
    {
      "cell_type": "code",
      "metadata": {
        "colab_type": "code",
        "id": "oreiUaDMakoX",
        "colab": {}
      },
      "source": [
        "# Transforming the Features\n",
        "X_transformed = pd.get_dummies(X, drop_first=True)\n",
        "X_pred_f_trans = pd.get_dummies(X_pred_f, drop_first=True)"
      ],
      "execution_count": 0,
      "outputs": []
    },
    {
      "cell_type": "code",
      "metadata": {
        "colab_type": "code",
        "id": "E2If73Xkakoa",
        "outputId": "ddd0d9f4-f8b5-463b-d728-8ab728a9f358",
        "colab": {
          "base_uri": "https://localhost:8080/",
          "height": 50
        }
      },
      "source": [
        "print(X_transformed.shape,'Train')\n",
        "print(X_pred_f_trans.shape,'Test')"
      ],
      "execution_count": 9,
      "outputs": [
        {
          "output_type": "stream",
          "text": [
            "(3638, 40) Train\n",
            "(45019, 44) Test\n"
          ],
          "name": "stdout"
        }
      ]
    },
    {
      "cell_type": "code",
      "metadata": {
        "colab_type": "code",
        "id": "BKmevqJqakoe",
        "outputId": "2bfeb0c2-1bde-42d4-ef0e-e7a1d8875b35",
        "scrolled": true,
        "colab": {
          "base_uri": "https://localhost:8080/",
          "height": 70
        }
      },
      "source": [
        "missing_pred_col = []\n",
        "for x in X_pred_f_trans.columns:\n",
        "    if x not in X_transformed.columns:\n",
        "        missing_pred_col.append(x)\n",
        "print(missing_pred_col, 'test')\n",
        "\n",
        "missing_train_col = []\n",
        "for x in X_transformed.columns:\n",
        "    if x not in X_pred_f_trans.columns:\n",
        "        missing_train_col.append(x)\n",
        "print(missing_train_col, 'train')\n"
      ],
      "execution_count": 10,
      "outputs": [
        {
          "output_type": "stream",
          "text": [
            "['ProductId_ProductId_17', 'ProductId_ProductId_18', 'ProductId_ProductId_25', 'ProductId_ProductId_26', 'ProductCategory_retail', 'ChannelId_ChannelId_4'] test\n",
            "['ProductId_ProductId_12', 'ProductCategory_other'] train\n"
          ],
          "name": "stdout"
        }
      ]
    },
    {
      "cell_type": "code",
      "metadata": {
        "colab_type": "code",
        "id": "cFwf7TXOakoi",
        "colab": {}
      },
      "source": [
        "X_pred_f_trans = X_pred_f_trans.drop(missing_pred_col, axis=1)\n",
        "X_transformed = X_transformed.drop(missing_train_col, axis=1)"
      ],
      "execution_count": 0,
      "outputs": []
    },
    {
      "cell_type": "code",
      "metadata": {
        "colab_type": "code",
        "id": "LybEqH2-akol",
        "outputId": "7bc57894-63fe-4ce7-8da3-5cc0bb51134d",
        "colab": {
          "base_uri": "https://localhost:8080/",
          "height": 50
        }
      },
      "source": [
        "print(X_transformed.shape,'Train')\n",
        "print(X_pred_f_trans.shape,'Test')"
      ],
      "execution_count": 12,
      "outputs": [
        {
          "output_type": "stream",
          "text": [
            "(3638, 38) Train\n",
            "(45019, 38) Test\n"
          ],
          "name": "stdout"
        }
      ]
    },
    {
      "cell_type": "code",
      "metadata": {
        "colab_type": "code",
        "id": "B3wxCIglakoo",
        "colab": {}
      },
      "source": [
        "from sklearn.model_selection import train_test_split"
      ],
      "execution_count": 0,
      "outputs": []
    },
    {
      "cell_type": "code",
      "metadata": {
        "colab_type": "code",
        "id": "0okXIGYuakoq",
        "colab": {}
      },
      "source": [
        "X_train, X_test, y_train, y_test = train_test_split(X_transformed, y, test_size=0.2, random_state=50)"
      ],
      "execution_count": 0,
      "outputs": []
    },
    {
      "cell_type": "code",
      "metadata": {
        "colab_type": "code",
        "id": "aNLfW3m2akot",
        "colab": {}
      },
      "source": [
        "from sklearn.neighbors import KNeighborsClassifier"
      ],
      "execution_count": 0,
      "outputs": []
    },
    {
      "cell_type": "code",
      "metadata": {
        "colab_type": "code",
        "id": "k3m-ocpxakov",
        "colab": {}
      },
      "source": [
        "KN = KNeighborsClassifier()"
      ],
      "execution_count": 0,
      "outputs": []
    },
    {
      "cell_type": "code",
      "metadata": {
        "colab_type": "code",
        "id": "sfRIb6Mkakoy",
        "outputId": "a85b11fe-b673-4d18-e811-0195593760c7",
        "colab": {
          "base_uri": "https://localhost:8080/",
          "height": 66
        }
      },
      "source": [
        "KN.fit(X_train,y_train)"
      ],
      "execution_count": 17,
      "outputs": [
        {
          "output_type": "execute_result",
          "data": {
            "text/plain": [
              "KNeighborsClassifier(algorithm='auto', leaf_size=30, metric='minkowski',\n",
              "                     metric_params=None, n_jobs=None, n_neighbors=5, p=2,\n",
              "                     weights='uniform')"
            ]
          },
          "metadata": {
            "tags": []
          },
          "execution_count": 17
        }
      ]
    },
    {
      "cell_type": "code",
      "metadata": {
        "colab_type": "code",
        "id": "zuf4V8HNako2",
        "colab": {}
      },
      "source": [
        "pred_KN = KN.predict(X_test)"
      ],
      "execution_count": 0,
      "outputs": []
    },
    {
      "cell_type": "markdown",
      "metadata": {
        "colab_type": "text",
        "id": "rtGV2-fNako6"
      },
      "source": [
        "![title](https://github.com/Explore-AI/Public-Data/blob/master/Data/matrix2.png?raw=true)\n",
        "\n"
      ]
    },
    {
      "cell_type": "markdown",
      "metadata": {
        "colab_type": "text",
        "id": "TaXlcbmdako6"
      },
      "source": [
        "* true positives (TP) : These are cases in which we predicted a Fraud, and is indeed Fraud.\n",
        "* true negatives (TN) : We predicted no Fraud, and is not Fraud.\n",
        "* false positives (FP): We predicted Fraud, but actually not Fraud (Also known as a **Type I error**).\n",
        "* false negatives (FN): We predicted no Fraud, but actually Fraud. (Also known as a **Type II error**)."
      ]
    },
    {
      "cell_type": "code",
      "metadata": {
        "colab_type": "code",
        "id": "giuC-TZMako7",
        "colab": {}
      },
      "source": [
        "from sklearn.metrics import confusion_matrix"
      ],
      "execution_count": 0,
      "outputs": []
    },
    {
      "cell_type": "code",
      "metadata": {
        "colab_type": "code",
        "id": "NHbTSoxkakpD",
        "colab": {}
      },
      "source": [
        "KN_cm = confusion_matrix(y_test, pred_KN)"
      ],
      "execution_count": 0,
      "outputs": []
    },
    {
      "cell_type": "code",
      "metadata": {
        "colab_type": "code",
        "id": "cy0ZFTOuakpH",
        "colab": {}
      },
      "source": [
        "labels = ['No Fraud', 'Fraud']"
      ],
      "execution_count": 0,
      "outputs": []
    },
    {
      "cell_type": "code",
      "metadata": {
        "colab_type": "code",
        "id": "0d1YETABakpK",
        "outputId": "919f4e97-1aff-456b-e6f6-e9abd6b667f8",
        "colab": {
          "base_uri": "https://localhost:8080/",
          "height": 105
        }
      },
      "source": [
        "pd.DataFrame(data=KN_cm, index=labels, columns=labels)"
      ],
      "execution_count": 22,
      "outputs": [
        {
          "output_type": "execute_result",
          "data": {
            "text/html": [
              "<div>\n",
              "<style scoped>\n",
              "    .dataframe tbody tr th:only-of-type {\n",
              "        vertical-align: middle;\n",
              "    }\n",
              "\n",
              "    .dataframe tbody tr th {\n",
              "        vertical-align: top;\n",
              "    }\n",
              "\n",
              "    .dataframe thead th {\n",
              "        text-align: right;\n",
              "    }\n",
              "</style>\n",
              "<table border=\"1\" class=\"dataframe\">\n",
              "  <thead>\n",
              "    <tr style=\"text-align: right;\">\n",
              "      <th></th>\n",
              "      <th>No Fraud</th>\n",
              "      <th>Fraud</th>\n",
              "    </tr>\n",
              "  </thead>\n",
              "  <tbody>\n",
              "    <tr>\n",
              "      <th>No Fraud</th>\n",
              "      <td>706</td>\n",
              "      <td>3</td>\n",
              "    </tr>\n",
              "    <tr>\n",
              "      <th>Fraud</th>\n",
              "      <td>2</td>\n",
              "      <td>17</td>\n",
              "    </tr>\n",
              "  </tbody>\n",
              "</table>\n",
              "</div>"
            ],
            "text/plain": [
              "          No Fraud  Fraud\n",
              "No Fraud       706      3\n",
              "Fraud            2     17"
            ]
          },
          "metadata": {
            "tags": []
          },
          "execution_count": 22
        }
      ]
    },
    {
      "cell_type": "code",
      "metadata": {
        "colab_type": "code",
        "id": "ew4BRhg7akpS",
        "colab": {}
      },
      "source": [
        "from sklearn.metrics import classification_report"
      ],
      "execution_count": 0,
      "outputs": []
    },
    {
      "cell_type": "code",
      "metadata": {
        "colab_type": "code",
        "id": "xYuzl_gPakpU",
        "outputId": "db4fd3ac-689b-43e9-f308-ddddf7d0dfb4",
        "scrolled": false,
        "colab": {
          "base_uri": "https://localhost:8080/",
          "height": 180
        }
      },
      "source": [
        "print('Classification Report')\n",
        "print(classification_report(y_test, pred_KN, target_names=['No Fraud', 'Fraud']))"
      ],
      "execution_count": 24,
      "outputs": [
        {
          "output_type": "stream",
          "text": [
            "Classification Report\n",
            "              precision    recall  f1-score   support\n",
            "\n",
            "    No Fraud       1.00      1.00      1.00       709\n",
            "       Fraud       0.85      0.89      0.87        19\n",
            "\n",
            "    accuracy                           0.99       728\n",
            "   macro avg       0.92      0.95      0.93       728\n",
            "weighted avg       0.99      0.99      0.99       728\n",
            "\n"
          ],
          "name": "stdout"
        }
      ]
    },
    {
      "cell_type": "code",
      "metadata": {
        "colab_type": "code",
        "id": "u3a8BfodakpZ",
        "colab": {}
      },
      "source": [
        "predFinal_preTune_KN = KN.predict(X_pred_f_trans)"
      ],
      "execution_count": 0,
      "outputs": []
    },
    {
      "cell_type": "code",
      "metadata": {
        "colab_type": "code",
        "id": "Yzj0tvYhakpi",
        "outputId": "d3c394ff-da09-4e28-89c1-5896bb31f071",
        "colab": {
          "base_uri": "https://localhost:8080/",
          "height": 191
        }
      },
      "source": [
        "#Creating a submission file\n",
        "my_submission = pd.DataFrame({'TransactionId': test.TransactionId, 'FraudResult': predFinal_preTune_KN}) \n",
        "my_submission.to_csv('submission_Untuned_KNN.csv', index=False)\n",
        "my_submission.head()"
      ],
      "execution_count": 26,
      "outputs": [
        {
          "output_type": "execute_result",
          "data": {
            "text/html": [
              "<div>\n",
              "<style scoped>\n",
              "    .dataframe tbody tr th:only-of-type {\n",
              "        vertical-align: middle;\n",
              "    }\n",
              "\n",
              "    .dataframe tbody tr th {\n",
              "        vertical-align: top;\n",
              "    }\n",
              "\n",
              "    .dataframe thead th {\n",
              "        text-align: right;\n",
              "    }\n",
              "</style>\n",
              "<table border=\"1\" class=\"dataframe\">\n",
              "  <thead>\n",
              "    <tr style=\"text-align: right;\">\n",
              "      <th></th>\n",
              "      <th>TransactionId</th>\n",
              "      <th>FraudResult</th>\n",
              "    </tr>\n",
              "  </thead>\n",
              "  <tbody>\n",
              "    <tr>\n",
              "      <th>0</th>\n",
              "      <td>TransactionId_50600</td>\n",
              "      <td>0</td>\n",
              "    </tr>\n",
              "    <tr>\n",
              "      <th>1</th>\n",
              "      <td>TransactionId_95109</td>\n",
              "      <td>0</td>\n",
              "    </tr>\n",
              "    <tr>\n",
              "      <th>2</th>\n",
              "      <td>TransactionId_47357</td>\n",
              "      <td>0</td>\n",
              "    </tr>\n",
              "    <tr>\n",
              "      <th>3</th>\n",
              "      <td>TransactionId_28185</td>\n",
              "      <td>0</td>\n",
              "    </tr>\n",
              "    <tr>\n",
              "      <th>4</th>\n",
              "      <td>TransactionId_22140</td>\n",
              "      <td>0</td>\n",
              "    </tr>\n",
              "  </tbody>\n",
              "</table>\n",
              "</div>"
            ],
            "text/plain": [
              "         TransactionId  FraudResult\n",
              "0  TransactionId_50600            0\n",
              "1  TransactionId_95109            0\n",
              "2  TransactionId_47357            0\n",
              "3  TransactionId_28185            0\n",
              "4  TransactionId_22140            0"
            ]
          },
          "metadata": {
            "tags": []
          },
          "execution_count": 26
        }
      ]
    },
    {
      "cell_type": "code",
      "metadata": {
        "colab_type": "code",
        "id": "f9PECc4oakpk",
        "colab": {}
      },
      "source": [
        "#X_transformed\n",
        "#X_pred_f_trans\n",
        "from sklearn.model_selection import RandomizedSearchCV\n",
        "X = X_transformed\n",
        "\n",
        "y = train_mod['FraudResult']\n",
        "\n",
        "algorithm = ['auto', 'ball_tree', 'kd_tree', 'brute']\n",
        "n_jobs=-1, \n",
        "n_neighbors=[3,5,7] \n",
        "p = [1,2]\n",
        "weights=['uniform', 'distance']\n",
        "\n",
        "hyperparameters = dict(algorithm=algorithm,\n",
        "                       n_jobs=n_jobs,\n",
        "                       n_neighbors=n_neighbors,\n",
        "                       p=p,\n",
        "                       weights=weights)\n",
        "\n",
        "clf = RandomizedSearchCV(KN, hyperparameters, random_state=12, n_iter=10, cv=5, verbose=0, n_jobs=-1)\n",
        "best_model = clf.fit(X, y)"
      ],
      "execution_count": 0,
      "outputs": []
    },
    {
      "cell_type": "code",
      "metadata": {
        "colab_type": "code",
        "id": "gaxDd0jgakpm",
        "colab": {
          "base_uri": "https://localhost:8080/",
          "height": 53
        },
        "outputId": "62f0d038-81ec-4578-9fa4-b0f5520cb711"
      },
      "source": [
        "print(\"Tuned KNN Parameters: {}\".format(best_model.best_params_))"
      ],
      "execution_count": 28,
      "outputs": [
        {
          "output_type": "stream",
          "text": [
            "Tuned KNN Parameters: {'weights': 'uniform', 'p': 1, 'n_neighbors': 7, 'n_jobs': -1, 'algorithm': 'brute'}\n"
          ],
          "name": "stdout"
        }
      ]
    },
    {
      "cell_type": "code",
      "metadata": {
        "colab_type": "code",
        "id": "-ijxoxacakpo",
        "colab": {}
      },
      "source": [
        "predFinal_preTuned_KN = best_model.predict(X_pred_f_trans)"
      ],
      "execution_count": 0,
      "outputs": []
    },
    {
      "cell_type": "code",
      "metadata": {
        "colab_type": "code",
        "id": "OOHC8Yidakpq",
        "colab": {
          "base_uri": "https://localhost:8080/",
          "height": 191
        },
        "outputId": "6a50f11a-a337-4248-faa1-0c7bee8beb2d"
      },
      "source": [
        "#Creating a submission file\n",
        "my_submission = pd.DataFrame({'TransactionId': test.TransactionId, 'FraudResult': predFinal_preTuned_KN}) \n",
        "my_submission.to_csv('submission_Tuned_KNN.csv', index=False)\n",
        "my_submission.head()"
      ],
      "execution_count": 30,
      "outputs": [
        {
          "output_type": "execute_result",
          "data": {
            "text/html": [
              "<div>\n",
              "<style scoped>\n",
              "    .dataframe tbody tr th:only-of-type {\n",
              "        vertical-align: middle;\n",
              "    }\n",
              "\n",
              "    .dataframe tbody tr th {\n",
              "        vertical-align: top;\n",
              "    }\n",
              "\n",
              "    .dataframe thead th {\n",
              "        text-align: right;\n",
              "    }\n",
              "</style>\n",
              "<table border=\"1\" class=\"dataframe\">\n",
              "  <thead>\n",
              "    <tr style=\"text-align: right;\">\n",
              "      <th></th>\n",
              "      <th>TransactionId</th>\n",
              "      <th>FraudResult</th>\n",
              "    </tr>\n",
              "  </thead>\n",
              "  <tbody>\n",
              "    <tr>\n",
              "      <th>0</th>\n",
              "      <td>TransactionId_50600</td>\n",
              "      <td>0</td>\n",
              "    </tr>\n",
              "    <tr>\n",
              "      <th>1</th>\n",
              "      <td>TransactionId_95109</td>\n",
              "      <td>0</td>\n",
              "    </tr>\n",
              "    <tr>\n",
              "      <th>2</th>\n",
              "      <td>TransactionId_47357</td>\n",
              "      <td>0</td>\n",
              "    </tr>\n",
              "    <tr>\n",
              "      <th>3</th>\n",
              "      <td>TransactionId_28185</td>\n",
              "      <td>0</td>\n",
              "    </tr>\n",
              "    <tr>\n",
              "      <th>4</th>\n",
              "      <td>TransactionId_22140</td>\n",
              "      <td>0</td>\n",
              "    </tr>\n",
              "  </tbody>\n",
              "</table>\n",
              "</div>"
            ],
            "text/plain": [
              "         TransactionId  FraudResult\n",
              "0  TransactionId_50600            0\n",
              "1  TransactionId_95109            0\n",
              "2  TransactionId_47357            0\n",
              "3  TransactionId_28185            0\n",
              "4  TransactionId_22140            0"
            ]
          },
          "metadata": {
            "tags": []
          },
          "execution_count": 30
        }
      ]
    },
    {
      "cell_type": "code",
      "metadata": {
        "id": "9rS6wAYfrUQ4",
        "colab_type": "code",
        "colab": {}
      },
      "source": [
        ""
      ],
      "execution_count": 0,
      "outputs": []
    }
  ]
}